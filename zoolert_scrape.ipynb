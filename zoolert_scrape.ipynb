{
 "cells": [
  {
   "cell_type": "markdown",
   "metadata": {},
   "source": [
    "# Set up "
   ]
  },
  {
   "cell_type": "code",
   "execution_count": 2,
   "metadata": {},
   "outputs": [],
   "source": [
    "#!pip install beautifulsoup4\n",
    "#!pip install requests\n",
    "#!pip install urllib2\n",
    "import requests\n",
    "from bs4 import BeautifulSoup\n",
    "import pandas as pd\n",
    "import numpy as np\n",
    "from datetime import datetime"
   ]
  },
  {
   "cell_type": "markdown",
   "metadata": {},
   "source": [
    "# Extract all the links under home category "
   ]
  },
  {
   "cell_type": "code",
   "execution_count": null,
   "metadata": {},
   "outputs": [],
   "source": [
    "from bs4 import BeautifulSoup, SoupStrainer\n",
    "import requests\n",
    "\n",
    "url = \"http://www.zoolert.com/\"\n",
    "\n",
    "page = requests.get(url)    \n",
    "data = page.text\n",
    "soup = BeautifulSoup(data)\n",
    "linkal=[]\n",
    "for link in soup.find_all('a'):\n",
    "    linkal.append(link.get('href'))\n",
    "linkal"
   ]
  },
  {
   "cell_type": "code",
   "execution_count": 194,
   "metadata": {},
   "outputs": [],
   "source": [
    "link_home=[]\n",
    "for link in linkal:\n",
    "    if re.findall('/home/', link):\n",
    "        link_home.append(link)\n",
    "link_home= set(link_home)\n",
    "link_home= pd.DataFrame(list(link_home), columns= list(['url']))\n",
    "link_home['prod_name'] = link_home['url'].str.split('/').str[-2]\n",
    "link_home.to_csv('product_name_home.csv')"
   ]
  },
  {
   "cell_type": "code",
   "execution_count": 196,
   "metadata": {},
   "outputs": [
    {
     "data": {
      "text/html": [
       "<div>\n",
       "<style scoped>\n",
       "    .dataframe tbody tr th:only-of-type {\n",
       "        vertical-align: middle;\n",
       "    }\n",
       "\n",
       "    .dataframe tbody tr th {\n",
       "        vertical-align: top;\n",
       "    }\n",
       "\n",
       "    .dataframe thead th {\n",
       "        text-align: right;\n",
       "    }\n",
       "</style>\n",
       "<table border=\"1\" class=\"dataframe\">\n",
       "  <thead>\n",
       "    <tr style=\"text-align: right;\">\n",
       "      <th></th>\n",
       "      <th>url</th>\n",
       "      <th>prod_name</th>\n",
       "    </tr>\n",
       "  </thead>\n",
       "  <tbody>\n",
       "    <tr>\n",
       "      <th>1</th>\n",
       "      <td>/home/oximeter/</td>\n",
       "      <td>oximeter</td>\n",
       "    </tr>\n",
       "    <tr>\n",
       "      <th>2</th>\n",
       "      <td>/home/emergen-c-vitamin/</td>\n",
       "      <td>emergen-c-vitamin</td>\n",
       "    </tr>\n",
       "    <tr>\n",
       "      <th>3</th>\n",
       "      <td>/home/all-purpose-cleaner/</td>\n",
       "      <td>all-purpose-cleaner</td>\n",
       "    </tr>\n",
       "    <tr>\n",
       "      <th>4</th>\n",
       "      <td>/home/floor-sweeper-pads/</td>\n",
       "      <td>floor-sweeper-pads</td>\n",
       "    </tr>\n",
       "  </tbody>\n",
       "</table>\n",
       "</div>"
      ],
      "text/plain": [
       "                          url            prod_name\n",
       "1             /home/oximeter/             oximeter\n",
       "2    /home/emergen-c-vitamin/    emergen-c-vitamin\n",
       "3  /home/all-purpose-cleaner/  all-purpose-cleaner\n",
       "4   /home/floor-sweeper-pads/   floor-sweeper-pads"
      ]
     },
     "execution_count": 196,
     "metadata": {},
     "output_type": "execute_result"
    }
   ],
   "source": [
    "link_home[1:5]"
   ]
  },
  {
   "cell_type": "markdown",
   "metadata": {},
   "source": [
    "# Read in data from the home file"
   ]
  },
  {
   "cell_type": "code",
   "execution_count": 3,
   "metadata": {},
   "outputs": [],
   "source": [
    "link_home = pd.read_csv('product_name_home.csv')"
   ]
  },
  {
   "cell_type": "code",
   "execution_count": 8,
   "metadata": {},
   "outputs": [],
   "source": [
    "def get_histchange( prod_name):\n",
    "    URL = 'https://www.zoolert.com/home/'+ prod_name+ '/instockhistory.php'\n",
    "    page = requests.get(URL)\n",
    "    soup = BeautifulSoup(page.content, 'html.parser')\n",
    "    results = soup.find(id=='div')\n",
    "    lists = results.find_all('tbody')\n",
    "    for tr in lists:\n",
    "        a = [td for td in tr.stripped_strings]\n",
    "    nrow = int(len(a)/4)\n",
    "    df = pd.DataFrame(np.array(a).reshape(nrow,4), columns = list(['retailer', 'name', 'time_update', 'duration']))\n",
    "    df['price']= df[\"name\"].str.split(\"--\", n = 1, expand = True)[1]\n",
    "    df['product'] = prod_name\n",
    "    print(prod_name)\n",
    "    return df;"
   ]
  },
  {
   "cell_type": "code",
   "execution_count": 10,
   "metadata": {
    "scrolled": true
   },
   "outputs": [
    {
     "name": "stdout",
     "output_type": "stream",
     "text": [
      "disposable-laex-gloves\n",
      "oximeter\n",
      "emergen-c-vitamin\n",
      "all-purpose-cleaner\n",
      "floor-sweeper-pads\n",
      "laundry\n",
      "weight-training\n",
      "hand-sanitizers\n",
      "respirator-face-mask\n",
      "hibiclens-antiseptic-skin-cleanser\n",
      "bread-maker\n",
      "sewing-machine\n",
      "rice\n",
      "thermoscan-ear-lens-filters\n",
      "noodles-cups\n",
      "trampolines\n",
      "antibacterial-hand-soap\n",
      "hair-cutting-kit\n",
      "toilet-bidet-attachment-water-sprayer\n",
      "isopropyl-alcohol\n",
      "disinfecting-wipes\n",
      "hydrogen-peroxide\n",
      "inflatable-pool\n",
      "baby-wipes\n",
      "flour\n",
      "shelf-stable-milk\n",
      "emergency-food-supply\n",
      "paper-towels\n",
      "facial-tissues\n",
      "toilet-paper\n",
      "over-the-counter-medicines\n",
      "thermometer\n"
     ]
    }
   ],
   "source": [
    "history_df= pd.DataFrame()\n",
    "temp =  pd.DataFrame()\n",
    "for prod_name in link_home[\"prod_name\"]:\n",
    "    temp= get_histchange(prod_name)\n",
    "    history_df = pd.concat([history_df, temp])"
   ]
  },
  {
   "cell_type": "code",
   "execution_count": 30,
   "metadata": {},
   "outputs": [
    {
     "data": {
      "text/plain": [
       "product\n",
       "all-purpose-cleaner                      600\n",
       "antibacterial-hand-soap                  600\n",
       "baby-wipes                               600\n",
       "bread-maker                               59\n",
       "disinfecting-wipes                       600\n",
       "disposable-laex-gloves                   473\n",
       "emergen-c-vitamin                        600\n",
       "emergency-food-supply                    147\n",
       "facial-tissues                           601\n",
       "floor-sweeper-pads                       103\n",
       "flour                                    277\n",
       "hair-cutting-kit                         417\n",
       "hand-sanitizers                          600\n",
       "hibiclens-antiseptic-skin-cleanser        21\n",
       "hydrogen-peroxide                         45\n",
       "inflatable-pool                           30\n",
       "isopropyl-alcohol                        601\n",
       "laundry                                  203\n",
       "noodles-cups                             600\n",
       "over-the-counter-medicines               370\n",
       "oximeter                                 132\n",
       "paper-towels                             601\n",
       "respirator-face-mask                     420\n",
       "rice                                       8\n",
       "sewing-machine                           309\n",
       "shelf-stable-milk                        272\n",
       "thermometer                              600\n",
       "thermoscan-ear-lens-filters              121\n",
       "toilet-bidet-attachment-water-sprayer    282\n",
       "toilet-paper                             601\n",
       "trampolines                                4\n",
       "weight-training                          600\n",
       "dtype: int64"
      ]
     },
     "execution_count": 30,
     "metadata": {},
     "output_type": "execute_result"
    }
   ],
   "source": [
    "history_df[1:10]\n",
    "history_df.groupby(['product']).size()"
   ]
  },
  {
   "cell_type": "code",
   "execution_count": 26,
   "metadata": {},
   "outputs": [],
   "source": [
    "\n",
    "date= datetime.date(datetime.now())\n",
    "history_df.to_csv('home_hist_'+str(date)+'.csv')"
   ]
  }
 ],
 "metadata": {
  "kernelspec": {
   "display_name": "Python 3",
   "language": "python",
   "name": "python3"
  },
  "language_info": {
   "codemirror_mode": {
    "name": "ipython",
    "version": 3
   },
   "file_extension": ".py",
   "mimetype": "text/x-python",
   "name": "python",
   "nbconvert_exporter": "python",
   "pygments_lexer": "ipython3",
   "version": "3.7.6"
  }
 },
 "nbformat": 4,
 "nbformat_minor": 4
}
